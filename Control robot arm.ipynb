{
 "cells": [
  {
   "cell_type": "markdown",
   "id": "d3a832c6-7000-4589-9272-dc4086fb6a3d",
   "metadata": {},
   "source": [
    "# Control the robot_plotter"
   ]
  },
  {
   "cell_type": "markdown",
   "id": "ca7170ad-bb9b-44ef-8a9d-2b9680fe28e5",
   "metadata": {},
   "source": [
    "## Import all the libraries\n",
    "* The `serial` library is used to communicate.\n",
    "* The `sleep` command from the `time` library is used to add delays in the execution.\n",
    "* The `svgpathtools` library is used to read a vector drawing file.\n",
    "* The `pandas` library is used to organize the coordinates and angle data.\n",
    "* The `numpy` library is used to perform the necessary calculations.\n",
    "* The `matplotlib` library is used to plot the coordinates to confirm if they are the correct ones."
   ]
  },
  {
   "cell_type": "code",
   "execution_count": null,
   "id": "27cba285",
   "metadata": {},
   "outputs": [],
   "source": [
    "import serial\n",
    "from time import sleep\n",
    "from svgpathtools import svg2paths, wsvg\n",
    "import pandas as pd\n",
    "import numpy as np\n",
    "import matplotlib.pyplot as plt"
   ]
  },
  {
   "cell_type": "markdown",
   "id": "aff39631-a6eb-4f51-9112-d087ab55d808",
   "metadata": {},
   "source": [
    "## Dimensions of the arms\n",
    "The dimensions of the arms of the robot are set here. The exact value must be known for calculations of forward and inverse kinematics.\n"
   ]
  },
  {
   "cell_type": "code",
   "execution_count": null,
   "id": "a745516a-08a2-425a-81ef-4c747bddbb20",
   "metadata": {},
   "outputs": [],
   "source": [
    "l2 = 100 #mm\n",
    "d = 80   #mm\n",
    "l1 = 60  #mm"
   ]
  },
  {
   "cell_type": "markdown",
   "id": "4dbf3e06-866b-410d-b072-7df03a620bcd",
   "metadata": {},
   "source": [
    "## Forward Kinematics\n",
    "These are the equations that describe how the joint coordinates ($q_1 , q_2$) affect the end effector location ($x , y$)."
   ]
  },
  {
   "cell_type": "code",
   "execution_count": null,
   "id": "d0f429c5",
   "metadata": {},
   "outputs": [],
   "source": [
    "def forward_kinematics(row):\n",
    "    q1, q2 = row[['q1', 'q2']]\n",
    "    q1, q2 = np.deg2rad([q1, q2])\n",
    "    \n",
    "    A = l1*np.array([np.cos(q1), np.sin(q1)])\n",
    "    B = np.array([d+l1*np.cos(q2), l1*np.sin(q2)])\n",
    "    D = B-A\n",
    "    \n",
    "    psi = np.arctan2(D[1], D[0])\n",
    "    h = np.linalg.norm(D)\n",
    "    del1 = np.arccos(h/(2*l2))\n",
    "    phi1 = del1+psi\n",
    "    C = A+l2*np.array([np.cos(phi1), np.sin(phi1)])\n",
    "    return C"
   ]
  },
  {
   "cell_type": "markdown",
   "id": "4e882e5c-9250-4951-a8f6-a0d340f59376",
   "metadata": {},
   "source": [
    "## Inverse Kinematics\n",
    "These are the equations that calculate the joint coordinates ($q_1 , q_2$) based on the desired end effector location ($x , y$)."
   ]
  },
  {
   "cell_type": "code",
   "execution_count": null,
   "id": "d4a0973d",
   "metadata": {},
   "outputs": [],
   "source": [
    "def inverse_kinematics(row):\n",
    "    x, y = row[['x','y']]\n",
    "    C = np.sqrt(x**2+y**2)\n",
    "    e = np.sqrt((d-x)**2+y**2)\n",
    "    q1 = np.arctan2(y,x)+np.arccos((l1**2+C**2-l2**2)/(2*l1*C))\n",
    "    q2 = np.pi-np.arctan2(y,d-x)-np.arccos((l1**2+e**2-l2**2)/(2*l1*e))\n",
    "    return np.rad2deg([q1, q2])"
   ]
  },
  {
   "cell_type": "markdown",
   "id": "3622295c-9c56-431f-9d79-5dd36de9689e",
   "metadata": {},
   "source": [
    "## Load the path\n",
    "Here, we read the **svg** file that contains the drawing. The end effector must travel through all the points in order to create the drawing. Based on the desired end effector locations, the joint coordinates are calculated using the `inverse_kinematics` function."
   ]
  },
  {
   "cell_type": "code",
   "execution_count": null,
   "id": "11be6f37",
   "metadata": {},
   "outputs": [],
   "source": [
    "paths, attributes = svg2paths('drawings/engrave.svg')\n",
    "result = []\n",
    "for path in paths:\n",
    "    for line in path:\n",
    "        x = line.start.real\n",
    "        y = line.start.imag\n",
    "        result.append((x,y))\n",
    "\n",
    "result = pd.DataFrame(result, columns= ['x', 'y'])\n",
    "middle = np.mean([min(result['x']),max(result['x'])])\n",
    "result['x'] -= middle\n",
    "result['x'] = -result['x'] #Flip the drawing\n",
    "result['x'] += 40 #\n",
    "result['y'] += 60\n",
    "\n",
    "result[['q1', 'q2']] = result.apply(inverse_kinematics, axis=1, result_type='expand')\n",
    "#result = result.dropna()\n"
   ]
  },
  {
   "cell_type": "markdown",
   "id": "90809068-5f4a-4681-996c-2bd0167253b3",
   "metadata": {},
   "source": [
    "## Plot the path\n",
    "Here, we plot the path of the end effector to confirm if the joints are calculated correctly. We do this by applying the `forward_kinematics` function on the joint angles to get back the end effector position."
   ]
  },
  {
   "cell_type": "code",
   "execution_count": null,
   "id": "2804bcec",
   "metadata": {},
   "outputs": [],
   "source": [
    "result[['xd', 'yd']] = result.apply(forward_kinematics, axis=1, result_type='expand')\n",
    "result.plot('xd', 'yd')\n",
    "plt.axis('equal')"
   ]
  },
  {
   "cell_type": "markdown",
   "id": "629cfe28-4938-47aa-9ac2-e82c37a68832",
   "metadata": {},
   "source": [
    "## Send joint coordinates to robot\n",
    "Here, we send the calculated joint coordinates to the robot via the Serial port. Define the port name correctly.\n",
    "\n",
    "**NOTE:** If you get an error opening the port, make sure the Serial Monitor is closed."
   ]
  },
  {
   "cell_type": "code",
   "execution_count": null,
   "id": "d4807a7a",
   "metadata": {},
   "outputs": [],
   "source": [
    "with serial.Serial(port='COM12', baudrate=9600) as ser:\n",
    "    x = input(\"Write H0 after homing the motors to their 0 angle positions.\")\n",
    "    ser.write(x.encode())\n",
    "    sleep(3)\n",
    "    \n",
    "    print(\"Setting the motor speed.\")\n",
    "    command = f'S700\\n'\n",
    "    print(command)\n",
    "    ser.write(command.encode())\n",
    "    \n",
    "    print(\"Sending joint coordinates to the robot.\")\n",
    "    for i, row in result.iterrows():\n",
    "\n",
    "        x, y = (row[['q1', 'q2']]).astype(float)\n",
    "        command = f'X{x:.3f}Y{y:.3f}\\n'\n",
    "        print(command)\n",
    "        ser.write(command.encode())\n",
    "        \n",
    "        while ser.read().decode()!='G':\n",
    "            pass\n",
    "\n",
    "        \n",
    "    x, y = [0,0]    \n",
    "    command = f'X{x}Y{y}\\n'\n",
    "    print(command)\n",
    "    ser.write(command.encode())"
   ]
  }
 ],
 "metadata": {
  "kernelspec": {
   "display_name": "Python 3 (ipykernel)",
   "language": "python",
   "name": "python3"
  },
  "language_info": {
   "codemirror_mode": {
    "name": "ipython",
    "version": 3
   },
   "file_extension": ".py",
   "mimetype": "text/x-python",
   "name": "python",
   "nbconvert_exporter": "python",
   "pygments_lexer": "ipython3",
   "version": "3.10.1"
  }
 },
 "nbformat": 4,
 "nbformat_minor": 5
}
